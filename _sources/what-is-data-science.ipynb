{
 "cells": [
  {
   "cell_type": "markdown",
   "metadata": {
    "tags": [
     "hide-input"
    ]
   },
   "source": [
    "# What is Data Science\n",
    "As I said at the introduction, data science is such a wide area that it's hard to define it with a few sentences. Instead, I'll tell you what analyses is done by data analyst or scientist on their day-to-day work."
   ]
  },
  {
   "cell_type": "markdown",
   "metadata": {
    "tags": [
     "hide-input"
    ]
   },
   "source": [
    "# Too many works are called analysis\n",
    "Calculate average age of your family, then you just did data analysis!\n",
    "\n",
    "And what I did last year to predict bot probability of a game player with state-of-the-art GNN(*Graph Neural Network, I'll tell you about it later, so don't be worry if you don't know about it*), it's also called data analysis!\n",
    "\n",
    "As you see, too many works are all called the same 'analysis'. Instead, we can categorize analysis into 3 types.\n",
    "* Descriptive analysis\n",
    "* Predictive analysis\n",
    "* Prescriptive analysis"
   ]
  },
  {
   "cell_type": "markdown",
   "metadata": {
    "tags": [
     "hide-input"
    ]
   },
   "source": [
    "# Descriptive analysis\n",
    "\n",
    "Descriptive analysis is the analysis that data analyst(DA) or business intelligence(BI) do. As the name suggests, it  describes the charactersitics of data.\n",
    "\n",
    "Like the figure above, we can summarize raw data with some calculation. We can tell the data stories with beautiful pie chart, like *\"Most favorite car color of our customers are white.\"*."
   ]
  },
  {
   "cell_type": "code",
   "execution_count": 56,
   "metadata": {
    "tags": [
     "hide-input"
    ]
   },
   "outputs": [
    {
     "data": {
      "application/vnd.plotly.v1+json": {
       "config": {
        "plotlyServerURL": "https://plot.ly"
       },
       "data": [
        {
         "alignmentgroup": "True",
         "bingroup": "x",
         "hovertemplate": "Age=%{x}<br>count=%{y}<extra></extra>",
         "legendgroup": "",
         "marker": {
          "color": "#636efa",
          "pattern": {
           "shape": ""
          }
         },
         "name": "",
         "offsetgroup": "",
         "orientation": "v",
         "showlegend": false,
         "type": "histogram",
         "x": [
          23,
          25,
          22,
          24,
          27,
          26,
          28,
          28,
          21,
          26,
          27,
          27,
          28,
          21,
          25,
          29,
          28,
          29,
          24,
          23,
          20,
          23,
          25,
          20,
          22,
          23,
          28,
          21,
          23,
          23,
          23,
          27,
          20,
          21,
          29,
          29,
          20,
          24,
          27,
          23,
          22,
          27,
          22,
          20,
          20,
          24,
          25,
          25,
          26,
          28,
          24,
          21,
          24,
          29,
          28,
          21,
          21,
          27,
          29,
          29,
          23,
          26,
          27,
          22,
          20,
          23,
          25,
          29,
          24,
          24,
          26,
          24,
          24,
          23,
          24,
          24,
          28,
          24,
          23,
          27,
          25,
          25,
          20,
          21,
          25,
          29,
          23,
          20,
          25,
          20,
          21,
          22,
          24,
          22,
          20,
          23,
          22,
          20,
          27,
          25,
          39,
          30,
          40,
          48,
          41,
          32,
          32,
          33,
          33,
          48,
          44,
          33,
          47,
          48,
          44,
          39,
          31,
          34,
          40,
          41,
          38,
          41,
          32,
          49,
          46,
          30,
          30,
          36,
          49,
          44,
          40,
          49,
          38,
          43,
          32,
          33,
          32,
          41,
          43,
          46,
          38,
          38,
          49,
          38,
          32,
          33,
          42,
          44,
          30,
          34,
          33,
          43,
          41,
          43,
          43,
          41,
          46,
          44,
          46,
          49,
          31,
          38,
          30,
          34,
          36,
          43,
          37,
          45,
          39,
          48,
          38,
          45,
          41,
          36,
          45,
          31,
          42,
          33,
          48,
          45,
          33,
          40,
          42,
          36,
          33,
          35,
          41,
          30,
          41,
          38,
          40,
          41,
          35,
          45,
          38,
          32,
          49,
          49,
          44,
          33,
          33,
          37,
          39,
          39,
          39,
          33,
          44,
          48,
          42,
          33,
          39,
          40,
          43,
          37,
          37,
          31,
          42,
          32,
          32,
          31,
          35,
          38,
          34,
          30,
          41,
          32,
          35,
          46,
          38,
          31,
          47,
          46,
          33,
          38,
          34,
          46,
          33,
          37,
          33,
          48,
          47,
          31,
          48,
          47,
          32,
          35,
          35,
          42,
          42,
          32,
          45,
          37,
          37,
          41,
          47,
          36,
          37,
          48,
          41,
          49,
          47,
          39,
          44,
          39,
          48,
          30,
          39,
          41,
          47,
          39,
          30,
          46,
          40,
          34,
          33,
          49,
          38,
          44,
          30,
          49,
          38,
          37,
          43,
          47,
          30,
          41,
          34,
          30,
          40,
          44,
          48,
          34,
          33,
          49,
          37,
          38,
          43,
          35,
          30,
          38,
          45,
          45,
          41,
          34,
          37,
          43,
          40,
          44,
          47,
          49,
          33,
          39,
          48,
          32,
          49,
          41,
          48,
          43,
          31,
          36,
          40,
          46,
          46,
          33,
          47,
          40,
          39,
          42,
          43,
          36,
          36,
          37,
          38,
          43,
          37,
          46,
          45,
          38,
          33,
          36,
          47,
          37,
          32,
          46,
          48,
          43,
          34,
          34,
          42,
          47,
          31,
          35,
          31,
          49,
          49,
          37,
          39,
          47,
          39,
          30,
          49,
          34,
          47,
          46,
          33,
          40,
          31,
          34,
          34,
          46,
          46,
          45,
          40,
          43,
          38,
          41,
          36,
          39,
          45,
          33,
          49,
          42,
          48,
          47,
          40,
          32,
          31,
          41,
          33,
          42,
          34,
          31,
          47,
          30,
          37,
          34,
          33,
          35,
          36,
          33,
          32,
          38,
          31,
          34,
          30,
          43,
          49,
          39,
          35,
          31,
          37,
          38,
          37,
          33,
          42,
          33,
          36,
          37,
          49,
          30,
          35,
          41,
          39,
          49,
          37,
          35,
          38,
          41,
          44,
          30,
          38,
          49,
          36,
          40,
          49,
          32,
          30,
          49,
          44,
          30,
          49,
          36,
          31,
          42,
          48,
          43,
          39,
          34,
          47,
          33,
          32,
          43,
          45,
          34,
          39,
          34,
          47,
          48,
          43,
          43,
          32,
          33,
          39,
          42,
          45,
          32,
          49,
          36,
          44,
          46,
          45,
          38,
          30,
          40,
          41,
          43,
          37,
          36,
          43,
          45,
          39,
          36,
          41,
          48,
          37,
          31,
          39,
          32,
          48,
          44,
          35,
          34,
          48,
          44,
          48,
          31,
          42,
          30,
          39,
          46,
          32,
          38,
          49,
          40,
          46,
          31,
          30,
          35,
          32,
          45,
          33,
          44,
          35,
          41,
          49,
          36,
          36,
          49,
          36,
          32,
          36,
          35,
          35,
          43,
          39,
          34,
          43,
          47,
          33,
          43,
          49,
          38,
          43,
          35,
          46,
          44,
          35,
          31,
          35,
          36,
          42,
          40,
          44,
          38,
          37,
          43,
          35,
          45,
          40,
          33,
          40,
          48,
          33,
          44,
          48,
          35,
          34,
          47,
          35,
          33,
          35,
          38,
          34,
          47,
          31,
          48,
          31,
          44,
          47,
          37,
          41,
          44,
          46,
          31,
          47,
          42,
          44,
          30,
          32,
          49,
          44,
          48,
          41,
          39,
          44,
          30,
          42,
          39,
          48,
          34,
          37,
          33,
          46,
          42,
          35,
          43,
          46,
          43,
          48,
          49,
          47,
          37,
          47,
          44,
          33,
          40,
          40,
          31,
          46,
          40,
          48,
          46,
          32,
          36,
          39,
          32,
          42,
          39,
          34,
          34,
          39,
          40,
          42,
          38,
          31,
          35,
          37,
          30,
          31,
          33,
          48,
          48,
          38,
          48,
          37,
          40,
          48,
          33,
          42,
          49,
          43,
          30,
          40,
          33,
          36,
          33,
          36,
          49,
          32,
          48,
          48,
          36,
          41,
          30,
          34,
          43,
          39,
          32,
          31,
          42,
          45,
          31,
          42,
          35,
          36,
          31,
          40,
          36,
          36,
          36,
          36,
          41,
          48,
          48,
          48,
          49,
          32,
          42,
          39,
          49,
          38,
          35,
          41,
          31,
          41,
          45,
          42,
          45,
          42,
          48,
          43,
          42,
          39,
          36,
          34,
          46,
          38,
          35,
          45,
          35,
          55,
          67,
          50,
          66,
          66,
          50,
          60,
          62,
          50,
          57,
          69,
          55,
          54,
          69,
          54,
          55,
          62,
          67,
          69,
          62,
          56,
          57,
          66,
          50,
          65,
          60,
          53,
          53,
          66,
          66,
          59,
          55,
          66,
          67,
          59,
          62,
          65,
          56,
          64,
          51,
          54,
          66,
          54,
          57,
          64,
          57,
          52,
          66,
          65,
          65,
          68,
          61,
          64,
          57,
          52,
          67,
          53,
          57,
          63,
          66,
          55,
          54,
          63,
          55,
          69,
          61,
          58,
          50,
          67,
          55,
          54,
          51,
          55,
          66,
          56,
          58,
          69,
          54,
          60,
          60,
          53,
          55,
          59,
          58,
          67,
          69,
          58,
          60,
          51,
          64,
          55,
          66,
          53,
          57,
          51,
          58,
          50,
          55,
          65,
          56,
          65,
          55,
          59,
          67,
          66,
          66,
          61,
          64,
          55,
          69,
          65,
          63,
          61,
          61,
          51,
          57,
          66,
          57,
          65,
          50,
          54,
          68,
          52,
          58,
          60,
          55,
          56,
          56,
          54,
          51,
          54,
          55,
          55,
          56,
          53,
          67,
          65,
          68,
          59,
          54,
          67,
          52,
          69,
          53,
          63,
          61,
          63,
          54,
          67,
          56,
          65,
          52,
          60,
          67,
          55,
          54,
          54,
          65,
          52,
          61,
          52,
          51,
          64,
          69,
          66,
          61,
          51,
          51,
          63,
          56,
          63,
          56,
          69,
          66,
          53,
          64,
          52,
          55,
          57,
          65,
          64,
          53,
          57,
          57,
          69,
          56,
          69,
          67,
          61,
          53,
          63,
          54,
          69,
          56,
          61,
          64,
          68,
          62,
          53,
          55,
          57,
          64,
          61,
          59,
          61,
          66,
          57,
          51,
          68,
          50,
          59,
          58,
          68,
          61,
          69,
          67,
          65,
          53,
          60,
          64,
          65,
          51,
          62,
          61,
          57,
          61,
          63,
          52,
          51,
          66,
          51,
          66,
          51,
          51,
          62,
          56,
          58,
          58,
          63,
          60,
          69,
          68,
          50,
          54,
          50,
          55,
          65,
          69,
          65,
          69,
          62,
          63,
          60,
          59,
          66,
          56,
          53,
          66,
          50,
          51,
          68,
          50,
          61,
          68,
          68,
          65,
          65,
          57,
          62,
          63,
          68,
          64,
          64,
          57,
          62,
          61,
          62,
          65,
          61,
          63,
          64,
          68,
          54,
          51,
          67,
          67,
          66,
          59,
          66,
          52,
          65,
          67,
          56,
          50,
          56,
          62,
          65,
          60,
          52,
          58
         ],
         "xaxis": "x",
         "yaxis": "y"
        }
       ],
       "layout": {
        "barmode": "relative",
        "legend": {
         "tracegroupgap": 0
        },
        "margin": {
         "t": 60
        },
        "template": {
         "data": {
          "bar": [
           {
            "error_x": {
             "color": "#2a3f5f"
            },
            "error_y": {
             "color": "#2a3f5f"
            },
            "marker": {
             "line": {
              "color": "#E5ECF6",
              "width": 0.5
             },
             "pattern": {
              "fillmode": "overlay",
              "size": 10,
              "solidity": 0.2
             }
            },
            "type": "bar"
           }
          ],
          "barpolar": [
           {
            "marker": {
             "line": {
              "color": "#E5ECF6",
              "width": 0.5
             },
             "pattern": {
              "fillmode": "overlay",
              "size": 10,
              "solidity": 0.2
             }
            },
            "type": "barpolar"
           }
          ],
          "carpet": [
           {
            "aaxis": {
             "endlinecolor": "#2a3f5f",
             "gridcolor": "white",
             "linecolor": "white",
             "minorgridcolor": "white",
             "startlinecolor": "#2a3f5f"
            },
            "baxis": {
             "endlinecolor": "#2a3f5f",
             "gridcolor": "white",
             "linecolor": "white",
             "minorgridcolor": "white",
             "startlinecolor": "#2a3f5f"
            },
            "type": "carpet"
           }
          ],
          "choropleth": [
           {
            "colorbar": {
             "outlinewidth": 0,
             "ticks": ""
            },
            "type": "choropleth"
           }
          ],
          "contour": [
           {
            "colorbar": {
             "outlinewidth": 0,
             "ticks": ""
            },
            "colorscale": [
             [
              0,
              "#0d0887"
             ],
             [
              0.1111111111111111,
              "#46039f"
             ],
             [
              0.2222222222222222,
              "#7201a8"
             ],
             [
              0.3333333333333333,
              "#9c179e"
             ],
             [
              0.4444444444444444,
              "#bd3786"
             ],
             [
              0.5555555555555556,
              "#d8576b"
             ],
             [
              0.6666666666666666,
              "#ed7953"
             ],
             [
              0.7777777777777778,
              "#fb9f3a"
             ],
             [
              0.8888888888888888,
              "#fdca26"
             ],
             [
              1,
              "#f0f921"
             ]
            ],
            "type": "contour"
           }
          ],
          "contourcarpet": [
           {
            "colorbar": {
             "outlinewidth": 0,
             "ticks": ""
            },
            "type": "contourcarpet"
           }
          ],
          "heatmap": [
           {
            "colorbar": {
             "outlinewidth": 0,
             "ticks": ""
            },
            "colorscale": [
             [
              0,
              "#0d0887"
             ],
             [
              0.1111111111111111,
              "#46039f"
             ],
             [
              0.2222222222222222,
              "#7201a8"
             ],
             [
              0.3333333333333333,
              "#9c179e"
             ],
             [
              0.4444444444444444,
              "#bd3786"
             ],
             [
              0.5555555555555556,
              "#d8576b"
             ],
             [
              0.6666666666666666,
              "#ed7953"
             ],
             [
              0.7777777777777778,
              "#fb9f3a"
             ],
             [
              0.8888888888888888,
              "#fdca26"
             ],
             [
              1,
              "#f0f921"
             ]
            ],
            "type": "heatmap"
           }
          ],
          "heatmapgl": [
           {
            "colorbar": {
             "outlinewidth": 0,
             "ticks": ""
            },
            "colorscale": [
             [
              0,
              "#0d0887"
             ],
             [
              0.1111111111111111,
              "#46039f"
             ],
             [
              0.2222222222222222,
              "#7201a8"
             ],
             [
              0.3333333333333333,
              "#9c179e"
             ],
             [
              0.4444444444444444,
              "#bd3786"
             ],
             [
              0.5555555555555556,
              "#d8576b"
             ],
             [
              0.6666666666666666,
              "#ed7953"
             ],
             [
              0.7777777777777778,
              "#fb9f3a"
             ],
             [
              0.8888888888888888,
              "#fdca26"
             ],
             [
              1,
              "#f0f921"
             ]
            ],
            "type": "heatmapgl"
           }
          ],
          "histogram": [
           {
            "marker": {
             "pattern": {
              "fillmode": "overlay",
              "size": 10,
              "solidity": 0.2
             }
            },
            "type": "histogram"
           }
          ],
          "histogram2d": [
           {
            "colorbar": {
             "outlinewidth": 0,
             "ticks": ""
            },
            "colorscale": [
             [
              0,
              "#0d0887"
             ],
             [
              0.1111111111111111,
              "#46039f"
             ],
             [
              0.2222222222222222,
              "#7201a8"
             ],
             [
              0.3333333333333333,
              "#9c179e"
             ],
             [
              0.4444444444444444,
              "#bd3786"
             ],
             [
              0.5555555555555556,
              "#d8576b"
             ],
             [
              0.6666666666666666,
              "#ed7953"
             ],
             [
              0.7777777777777778,
              "#fb9f3a"
             ],
             [
              0.8888888888888888,
              "#fdca26"
             ],
             [
              1,
              "#f0f921"
             ]
            ],
            "type": "histogram2d"
           }
          ],
          "histogram2dcontour": [
           {
            "colorbar": {
             "outlinewidth": 0,
             "ticks": ""
            },
            "colorscale": [
             [
              0,
              "#0d0887"
             ],
             [
              0.1111111111111111,
              "#46039f"
             ],
             [
              0.2222222222222222,
              "#7201a8"
             ],
             [
              0.3333333333333333,
              "#9c179e"
             ],
             [
              0.4444444444444444,
              "#bd3786"
             ],
             [
              0.5555555555555556,
              "#d8576b"
             ],
             [
              0.6666666666666666,
              "#ed7953"
             ],
             [
              0.7777777777777778,
              "#fb9f3a"
             ],
             [
              0.8888888888888888,
              "#fdca26"
             ],
             [
              1,
              "#f0f921"
             ]
            ],
            "type": "histogram2dcontour"
           }
          ],
          "mesh3d": [
           {
            "colorbar": {
             "outlinewidth": 0,
             "ticks": ""
            },
            "type": "mesh3d"
           }
          ],
          "parcoords": [
           {
            "line": {
             "colorbar": {
              "outlinewidth": 0,
              "ticks": ""
             }
            },
            "type": "parcoords"
           }
          ],
          "pie": [
           {
            "automargin": true,
            "type": "pie"
           }
          ],
          "scatter": [
           {
            "fillpattern": {
             "fillmode": "overlay",
             "size": 10,
             "solidity": 0.2
            },
            "type": "scatter"
           }
          ],
          "scatter3d": [
           {
            "line": {
             "colorbar": {
              "outlinewidth": 0,
              "ticks": ""
             }
            },
            "marker": {
             "colorbar": {
              "outlinewidth": 0,
              "ticks": ""
             }
            },
            "type": "scatter3d"
           }
          ],
          "scattercarpet": [
           {
            "marker": {
             "colorbar": {
              "outlinewidth": 0,
              "ticks": ""
             }
            },
            "type": "scattercarpet"
           }
          ],
          "scattergeo": [
           {
            "marker": {
             "colorbar": {
              "outlinewidth": 0,
              "ticks": ""
             }
            },
            "type": "scattergeo"
           }
          ],
          "scattergl": [
           {
            "marker": {
             "colorbar": {
              "outlinewidth": 0,
              "ticks": ""
             }
            },
            "type": "scattergl"
           }
          ],
          "scattermapbox": [
           {
            "marker": {
             "colorbar": {
              "outlinewidth": 0,
              "ticks": ""
             }
            },
            "type": "scattermapbox"
           }
          ],
          "scatterpolar": [
           {
            "marker": {
             "colorbar": {
              "outlinewidth": 0,
              "ticks": ""
             }
            },
            "type": "scatterpolar"
           }
          ],
          "scatterpolargl": [
           {
            "marker": {
             "colorbar": {
              "outlinewidth": 0,
              "ticks": ""
             }
            },
            "type": "scatterpolargl"
           }
          ],
          "scatterternary": [
           {
            "marker": {
             "colorbar": {
              "outlinewidth": 0,
              "ticks": ""
             }
            },
            "type": "scatterternary"
           }
          ],
          "surface": [
           {
            "colorbar": {
             "outlinewidth": 0,
             "ticks": ""
            },
            "colorscale": [
             [
              0,
              "#0d0887"
             ],
             [
              0.1111111111111111,
              "#46039f"
             ],
             [
              0.2222222222222222,
              "#7201a8"
             ],
             [
              0.3333333333333333,
              "#9c179e"
             ],
             [
              0.4444444444444444,
              "#bd3786"
             ],
             [
              0.5555555555555556,
              "#d8576b"
             ],
             [
              0.6666666666666666,
              "#ed7953"
             ],
             [
              0.7777777777777778,
              "#fb9f3a"
             ],
             [
              0.8888888888888888,
              "#fdca26"
             ],
             [
              1,
              "#f0f921"
             ]
            ],
            "type": "surface"
           }
          ],
          "table": [
           {
            "cells": {
             "fill": {
              "color": "#EBF0F8"
             },
             "line": {
              "color": "white"
             }
            },
            "header": {
             "fill": {
              "color": "#C8D4E3"
             },
             "line": {
              "color": "white"
             }
            },
            "type": "table"
           }
          ]
         },
         "layout": {
          "annotationdefaults": {
           "arrowcolor": "#2a3f5f",
           "arrowhead": 0,
           "arrowwidth": 1
          },
          "autotypenumbers": "strict",
          "coloraxis": {
           "colorbar": {
            "outlinewidth": 0,
            "ticks": ""
           }
          },
          "colorscale": {
           "diverging": [
            [
             0,
             "#8e0152"
            ],
            [
             0.1,
             "#c51b7d"
            ],
            [
             0.2,
             "#de77ae"
            ],
            [
             0.3,
             "#f1b6da"
            ],
            [
             0.4,
             "#fde0ef"
            ],
            [
             0.5,
             "#f7f7f7"
            ],
            [
             0.6,
             "#e6f5d0"
            ],
            [
             0.7,
             "#b8e186"
            ],
            [
             0.8,
             "#7fbc41"
            ],
            [
             0.9,
             "#4d9221"
            ],
            [
             1,
             "#276419"
            ]
           ],
           "sequential": [
            [
             0,
             "#0d0887"
            ],
            [
             0.1111111111111111,
             "#46039f"
            ],
            [
             0.2222222222222222,
             "#7201a8"
            ],
            [
             0.3333333333333333,
             "#9c179e"
            ],
            [
             0.4444444444444444,
             "#bd3786"
            ],
            [
             0.5555555555555556,
             "#d8576b"
            ],
            [
             0.6666666666666666,
             "#ed7953"
            ],
            [
             0.7777777777777778,
             "#fb9f3a"
            ],
            [
             0.8888888888888888,
             "#fdca26"
            ],
            [
             1,
             "#f0f921"
            ]
           ],
           "sequentialminus": [
            [
             0,
             "#0d0887"
            ],
            [
             0.1111111111111111,
             "#46039f"
            ],
            [
             0.2222222222222222,
             "#7201a8"
            ],
            [
             0.3333333333333333,
             "#9c179e"
            ],
            [
             0.4444444444444444,
             "#bd3786"
            ],
            [
             0.5555555555555556,
             "#d8576b"
            ],
            [
             0.6666666666666666,
             "#ed7953"
            ],
            [
             0.7777777777777778,
             "#fb9f3a"
            ],
            [
             0.8888888888888888,
             "#fdca26"
            ],
            [
             1,
             "#f0f921"
            ]
           ]
          },
          "colorway": [
           "#636efa",
           "#EF553B",
           "#00cc96",
           "#ab63fa",
           "#FFA15A",
           "#19d3f3",
           "#FF6692",
           "#B6E880",
           "#FF97FF",
           "#FECB52"
          ],
          "font": {
           "color": "#2a3f5f"
          },
          "geo": {
           "bgcolor": "white",
           "lakecolor": "white",
           "landcolor": "#E5ECF6",
           "showlakes": true,
           "showland": true,
           "subunitcolor": "white"
          },
          "hoverlabel": {
           "align": "left"
          },
          "hovermode": "closest",
          "mapbox": {
           "style": "light"
          },
          "paper_bgcolor": "white",
          "plot_bgcolor": "#E5ECF6",
          "polar": {
           "angularaxis": {
            "gridcolor": "white",
            "linecolor": "white",
            "ticks": ""
           },
           "bgcolor": "#E5ECF6",
           "radialaxis": {
            "gridcolor": "white",
            "linecolor": "white",
            "ticks": ""
           }
          },
          "scene": {
           "xaxis": {
            "backgroundcolor": "#E5ECF6",
            "gridcolor": "white",
            "gridwidth": 2,
            "linecolor": "white",
            "showbackground": true,
            "ticks": "",
            "zerolinecolor": "white"
           },
           "yaxis": {
            "backgroundcolor": "#E5ECF6",
            "gridcolor": "white",
            "gridwidth": 2,
            "linecolor": "white",
            "showbackground": true,
            "ticks": "",
            "zerolinecolor": "white"
           },
           "zaxis": {
            "backgroundcolor": "#E5ECF6",
            "gridcolor": "white",
            "gridwidth": 2,
            "linecolor": "white",
            "showbackground": true,
            "ticks": "",
            "zerolinecolor": "white"
           }
          },
          "shapedefaults": {
           "line": {
            "color": "#2a3f5f"
           }
          },
          "ternary": {
           "aaxis": {
            "gridcolor": "white",
            "linecolor": "white",
            "ticks": ""
           },
           "baxis": {
            "gridcolor": "white",
            "linecolor": "white",
            "ticks": ""
           },
           "bgcolor": "#E5ECF6",
           "caxis": {
            "gridcolor": "white",
            "linecolor": "white",
            "ticks": ""
           }
          },
          "title": {
           "x": 0.05
          },
          "xaxis": {
           "automargin": true,
           "gridcolor": "white",
           "linecolor": "white",
           "ticks": "",
           "title": {
            "standoff": 15
           },
           "zerolinecolor": "white",
           "zerolinewidth": 2
          },
          "yaxis": {
           "automargin": true,
           "gridcolor": "white",
           "linecolor": "white",
           "ticks": "",
           "title": {
            "standoff": 15
           },
           "zerolinecolor": "white",
           "zerolinewidth": 2
          }
         }
        },
        "xaxis": {
         "anchor": "y",
         "domain": [
          0,
          1
         ],
         "title": {
          "text": "Age"
         }
        },
        "yaxis": {
         "anchor": "x",
         "domain": [
          0,
          1
         ],
         "title": {
          "text": "count"
         }
        }
       }
      },
      "text/html": [
       "<div>                            <div id=\"28bdb0fc-d85e-46f6-9f60-cb55042c8497\" class=\"plotly-graph-div\" style=\"height:525px; width:100%;\"></div>            <script type=\"text/javascript\">                require([\"plotly\"], function(Plotly) {                    window.PLOTLYENV=window.PLOTLYENV || {};                                    if (document.getElementById(\"28bdb0fc-d85e-46f6-9f60-cb55042c8497\")) {                    Plotly.newPlot(                        \"28bdb0fc-d85e-46f6-9f60-cb55042c8497\",                        [{\"alignmentgroup\":\"True\",\"bingroup\":\"x\",\"hovertemplate\":\"Age=%{x}<br>count=%{y}<extra></extra>\",\"legendgroup\":\"\",\"marker\":{\"color\":\"#636efa\",\"pattern\":{\"shape\":\"\"}},\"name\":\"\",\"offsetgroup\":\"\",\"orientation\":\"v\",\"showlegend\":false,\"x\":[23,25,22,24,27,26,28,28,21,26,27,27,28,21,25,29,28,29,24,23,20,23,25,20,22,23,28,21,23,23,23,27,20,21,29,29,20,24,27,23,22,27,22,20,20,24,25,25,26,28,24,21,24,29,28,21,21,27,29,29,23,26,27,22,20,23,25,29,24,24,26,24,24,23,24,24,28,24,23,27,25,25,20,21,25,29,23,20,25,20,21,22,24,22,20,23,22,20,27,25,39,30,40,48,41,32,32,33,33,48,44,33,47,48,44,39,31,34,40,41,38,41,32,49,46,30,30,36,49,44,40,49,38,43,32,33,32,41,43,46,38,38,49,38,32,33,42,44,30,34,33,43,41,43,43,41,46,44,46,49,31,38,30,34,36,43,37,45,39,48,38,45,41,36,45,31,42,33,48,45,33,40,42,36,33,35,41,30,41,38,40,41,35,45,38,32,49,49,44,33,33,37,39,39,39,33,44,48,42,33,39,40,43,37,37,31,42,32,32,31,35,38,34,30,41,32,35,46,38,31,47,46,33,38,34,46,33,37,33,48,47,31,48,47,32,35,35,42,42,32,45,37,37,41,47,36,37,48,41,49,47,39,44,39,48,30,39,41,47,39,30,46,40,34,33,49,38,44,30,49,38,37,43,47,30,41,34,30,40,44,48,34,33,49,37,38,43,35,30,38,45,45,41,34,37,43,40,44,47,49,33,39,48,32,49,41,48,43,31,36,40,46,46,33,47,40,39,42,43,36,36,37,38,43,37,46,45,38,33,36,47,37,32,46,48,43,34,34,42,47,31,35,31,49,49,37,39,47,39,30,49,34,47,46,33,40,31,34,34,46,46,45,40,43,38,41,36,39,45,33,49,42,48,47,40,32,31,41,33,42,34,31,47,30,37,34,33,35,36,33,32,38,31,34,30,43,49,39,35,31,37,38,37,33,42,33,36,37,49,30,35,41,39,49,37,35,38,41,44,30,38,49,36,40,49,32,30,49,44,30,49,36,31,42,48,43,39,34,47,33,32,43,45,34,39,34,47,48,43,43,32,33,39,42,45,32,49,36,44,46,45,38,30,40,41,43,37,36,43,45,39,36,41,48,37,31,39,32,48,44,35,34,48,44,48,31,42,30,39,46,32,38,49,40,46,31,30,35,32,45,33,44,35,41,49,36,36,49,36,32,36,35,35,43,39,34,43,47,33,43,49,38,43,35,46,44,35,31,35,36,42,40,44,38,37,43,35,45,40,33,40,48,33,44,48,35,34,47,35,33,35,38,34,47,31,48,31,44,47,37,41,44,46,31,47,42,44,30,32,49,44,48,41,39,44,30,42,39,48,34,37,33,46,42,35,43,46,43,48,49,47,37,47,44,33,40,40,31,46,40,48,46,32,36,39,32,42,39,34,34,39,40,42,38,31,35,37,30,31,33,48,48,38,48,37,40,48,33,42,49,43,30,40,33,36,33,36,49,32,48,48,36,41,30,34,43,39,32,31,42,45,31,42,35,36,31,40,36,36,36,36,41,48,48,48,49,32,42,39,49,38,35,41,31,41,45,42,45,42,48,43,42,39,36,34,46,38,35,45,35,55,67,50,66,66,50,60,62,50,57,69,55,54,69,54,55,62,67,69,62,56,57,66,50,65,60,53,53,66,66,59,55,66,67,59,62,65,56,64,51,54,66,54,57,64,57,52,66,65,65,68,61,64,57,52,67,53,57,63,66,55,54,63,55,69,61,58,50,67,55,54,51,55,66,56,58,69,54,60,60,53,55,59,58,67,69,58,60,51,64,55,66,53,57,51,58,50,55,65,56,65,55,59,67,66,66,61,64,55,69,65,63,61,61,51,57,66,57,65,50,54,68,52,58,60,55,56,56,54,51,54,55,55,56,53,67,65,68,59,54,67,52,69,53,63,61,63,54,67,56,65,52,60,67,55,54,54,65,52,61,52,51,64,69,66,61,51,51,63,56,63,56,69,66,53,64,52,55,57,65,64,53,57,57,69,56,69,67,61,53,63,54,69,56,61,64,68,62,53,55,57,64,61,59,61,66,57,51,68,50,59,58,68,61,69,67,65,53,60,64,65,51,62,61,57,61,63,52,51,66,51,66,51,51,62,56,58,58,63,60,69,68,50,54,50,55,65,69,65,69,62,63,60,59,66,56,53,66,50,51,68,50,61,68,68,65,65,57,62,63,68,64,64,57,62,61,62,65,61,63,64,68,54,51,67,67,66,59,66,52,65,67,56,50,56,62,65,60,52,58],\"xaxis\":\"x\",\"yaxis\":\"y\",\"type\":\"histogram\"}],                        {\"template\":{\"data\":{\"histogram2dcontour\":[{\"type\":\"histogram2dcontour\",\"colorbar\":{\"outlinewidth\":0,\"ticks\":\"\"},\"colorscale\":[[0.0,\"#0d0887\"],[0.1111111111111111,\"#46039f\"],[0.2222222222222222,\"#7201a8\"],[0.3333333333333333,\"#9c179e\"],[0.4444444444444444,\"#bd3786\"],[0.5555555555555556,\"#d8576b\"],[0.6666666666666666,\"#ed7953\"],[0.7777777777777778,\"#fb9f3a\"],[0.8888888888888888,\"#fdca26\"],[1.0,\"#f0f921\"]]}],\"choropleth\":[{\"type\":\"choropleth\",\"colorbar\":{\"outlinewidth\":0,\"ticks\":\"\"}}],\"histogram2d\":[{\"type\":\"histogram2d\",\"colorbar\":{\"outlinewidth\":0,\"ticks\":\"\"},\"colorscale\":[[0.0,\"#0d0887\"],[0.1111111111111111,\"#46039f\"],[0.2222222222222222,\"#7201a8\"],[0.3333333333333333,\"#9c179e\"],[0.4444444444444444,\"#bd3786\"],[0.5555555555555556,\"#d8576b\"],[0.6666666666666666,\"#ed7953\"],[0.7777777777777778,\"#fb9f3a\"],[0.8888888888888888,\"#fdca26\"],[1.0,\"#f0f921\"]]}],\"heatmap\":[{\"type\":\"heatmap\",\"colorbar\":{\"outlinewidth\":0,\"ticks\":\"\"},\"colorscale\":[[0.0,\"#0d0887\"],[0.1111111111111111,\"#46039f\"],[0.2222222222222222,\"#7201a8\"],[0.3333333333333333,\"#9c179e\"],[0.4444444444444444,\"#bd3786\"],[0.5555555555555556,\"#d8576b\"],[0.6666666666666666,\"#ed7953\"],[0.7777777777777778,\"#fb9f3a\"],[0.8888888888888888,\"#fdca26\"],[1.0,\"#f0f921\"]]}],\"heatmapgl\":[{\"type\":\"heatmapgl\",\"colorbar\":{\"outlinewidth\":0,\"ticks\":\"\"},\"colorscale\":[[0.0,\"#0d0887\"],[0.1111111111111111,\"#46039f\"],[0.2222222222222222,\"#7201a8\"],[0.3333333333333333,\"#9c179e\"],[0.4444444444444444,\"#bd3786\"],[0.5555555555555556,\"#d8576b\"],[0.6666666666666666,\"#ed7953\"],[0.7777777777777778,\"#fb9f3a\"],[0.8888888888888888,\"#fdca26\"],[1.0,\"#f0f921\"]]}],\"contourcarpet\":[{\"type\":\"contourcarpet\",\"colorbar\":{\"outlinewidth\":0,\"ticks\":\"\"}}],\"contour\":[{\"type\":\"contour\",\"colorbar\":{\"outlinewidth\":0,\"ticks\":\"\"},\"colorscale\":[[0.0,\"#0d0887\"],[0.1111111111111111,\"#46039f\"],[0.2222222222222222,\"#7201a8\"],[0.3333333333333333,\"#9c179e\"],[0.4444444444444444,\"#bd3786\"],[0.5555555555555556,\"#d8576b\"],[0.6666666666666666,\"#ed7953\"],[0.7777777777777778,\"#fb9f3a\"],[0.8888888888888888,\"#fdca26\"],[1.0,\"#f0f921\"]]}],\"surface\":[{\"type\":\"surface\",\"colorbar\":{\"outlinewidth\":0,\"ticks\":\"\"},\"colorscale\":[[0.0,\"#0d0887\"],[0.1111111111111111,\"#46039f\"],[0.2222222222222222,\"#7201a8\"],[0.3333333333333333,\"#9c179e\"],[0.4444444444444444,\"#bd3786\"],[0.5555555555555556,\"#d8576b\"],[0.6666666666666666,\"#ed7953\"],[0.7777777777777778,\"#fb9f3a\"],[0.8888888888888888,\"#fdca26\"],[1.0,\"#f0f921\"]]}],\"mesh3d\":[{\"type\":\"mesh3d\",\"colorbar\":{\"outlinewidth\":0,\"ticks\":\"\"}}],\"scatter\":[{\"fillpattern\":{\"fillmode\":\"overlay\",\"size\":10,\"solidity\":0.2},\"type\":\"scatter\"}],\"parcoords\":[{\"type\":\"parcoords\",\"line\":{\"colorbar\":{\"outlinewidth\":0,\"ticks\":\"\"}}}],\"scatterpolargl\":[{\"type\":\"scatterpolargl\",\"marker\":{\"colorbar\":{\"outlinewidth\":0,\"ticks\":\"\"}}}],\"bar\":[{\"error_x\":{\"color\":\"#2a3f5f\"},\"error_y\":{\"color\":\"#2a3f5f\"},\"marker\":{\"line\":{\"color\":\"#E5ECF6\",\"width\":0.5},\"pattern\":{\"fillmode\":\"overlay\",\"size\":10,\"solidity\":0.2}},\"type\":\"bar\"}],\"scattergeo\":[{\"type\":\"scattergeo\",\"marker\":{\"colorbar\":{\"outlinewidth\":0,\"ticks\":\"\"}}}],\"scatterpolar\":[{\"type\":\"scatterpolar\",\"marker\":{\"colorbar\":{\"outlinewidth\":0,\"ticks\":\"\"}}}],\"histogram\":[{\"marker\":{\"pattern\":{\"fillmode\":\"overlay\",\"size\":10,\"solidity\":0.2}},\"type\":\"histogram\"}],\"scattergl\":[{\"type\":\"scattergl\",\"marker\":{\"colorbar\":{\"outlinewidth\":0,\"ticks\":\"\"}}}],\"scatter3d\":[{\"type\":\"scatter3d\",\"line\":{\"colorbar\":{\"outlinewidth\":0,\"ticks\":\"\"}},\"marker\":{\"colorbar\":{\"outlinewidth\":0,\"ticks\":\"\"}}}],\"scattermapbox\":[{\"type\":\"scattermapbox\",\"marker\":{\"colorbar\":{\"outlinewidth\":0,\"ticks\":\"\"}}}],\"scatterternary\":[{\"type\":\"scatterternary\",\"marker\":{\"colorbar\":{\"outlinewidth\":0,\"ticks\":\"\"}}}],\"scattercarpet\":[{\"type\":\"scattercarpet\",\"marker\":{\"colorbar\":{\"outlinewidth\":0,\"ticks\":\"\"}}}],\"carpet\":[{\"aaxis\":{\"endlinecolor\":\"#2a3f5f\",\"gridcolor\":\"white\",\"linecolor\":\"white\",\"minorgridcolor\":\"white\",\"startlinecolor\":\"#2a3f5f\"},\"baxis\":{\"endlinecolor\":\"#2a3f5f\",\"gridcolor\":\"white\",\"linecolor\":\"white\",\"minorgridcolor\":\"white\",\"startlinecolor\":\"#2a3f5f\"},\"type\":\"carpet\"}],\"table\":[{\"cells\":{\"fill\":{\"color\":\"#EBF0F8\"},\"line\":{\"color\":\"white\"}},\"header\":{\"fill\":{\"color\":\"#C8D4E3\"},\"line\":{\"color\":\"white\"}},\"type\":\"table\"}],\"barpolar\":[{\"marker\":{\"line\":{\"color\":\"#E5ECF6\",\"width\":0.5},\"pattern\":{\"fillmode\":\"overlay\",\"size\":10,\"solidity\":0.2}},\"type\":\"barpolar\"}],\"pie\":[{\"automargin\":true,\"type\":\"pie\"}]},\"layout\":{\"autotypenumbers\":\"strict\",\"colorway\":[\"#636efa\",\"#EF553B\",\"#00cc96\",\"#ab63fa\",\"#FFA15A\",\"#19d3f3\",\"#FF6692\",\"#B6E880\",\"#FF97FF\",\"#FECB52\"],\"font\":{\"color\":\"#2a3f5f\"},\"hovermode\":\"closest\",\"hoverlabel\":{\"align\":\"left\"},\"paper_bgcolor\":\"white\",\"plot_bgcolor\":\"#E5ECF6\",\"polar\":{\"bgcolor\":\"#E5ECF6\",\"angularaxis\":{\"gridcolor\":\"white\",\"linecolor\":\"white\",\"ticks\":\"\"},\"radialaxis\":{\"gridcolor\":\"white\",\"linecolor\":\"white\",\"ticks\":\"\"}},\"ternary\":{\"bgcolor\":\"#E5ECF6\",\"aaxis\":{\"gridcolor\":\"white\",\"linecolor\":\"white\",\"ticks\":\"\"},\"baxis\":{\"gridcolor\":\"white\",\"linecolor\":\"white\",\"ticks\":\"\"},\"caxis\":{\"gridcolor\":\"white\",\"linecolor\":\"white\",\"ticks\":\"\"}},\"coloraxis\":{\"colorbar\":{\"outlinewidth\":0,\"ticks\":\"\"}},\"colorscale\":{\"sequential\":[[0.0,\"#0d0887\"],[0.1111111111111111,\"#46039f\"],[0.2222222222222222,\"#7201a8\"],[0.3333333333333333,\"#9c179e\"],[0.4444444444444444,\"#bd3786\"],[0.5555555555555556,\"#d8576b\"],[0.6666666666666666,\"#ed7953\"],[0.7777777777777778,\"#fb9f3a\"],[0.8888888888888888,\"#fdca26\"],[1.0,\"#f0f921\"]],\"sequentialminus\":[[0.0,\"#0d0887\"],[0.1111111111111111,\"#46039f\"],[0.2222222222222222,\"#7201a8\"],[0.3333333333333333,\"#9c179e\"],[0.4444444444444444,\"#bd3786\"],[0.5555555555555556,\"#d8576b\"],[0.6666666666666666,\"#ed7953\"],[0.7777777777777778,\"#fb9f3a\"],[0.8888888888888888,\"#fdca26\"],[1.0,\"#f0f921\"]],\"diverging\":[[0,\"#8e0152\"],[0.1,\"#c51b7d\"],[0.2,\"#de77ae\"],[0.3,\"#f1b6da\"],[0.4,\"#fde0ef\"],[0.5,\"#f7f7f7\"],[0.6,\"#e6f5d0\"],[0.7,\"#b8e186\"],[0.8,\"#7fbc41\"],[0.9,\"#4d9221\"],[1,\"#276419\"]]},\"xaxis\":{\"gridcolor\":\"white\",\"linecolor\":\"white\",\"ticks\":\"\",\"title\":{\"standoff\":15},\"zerolinecolor\":\"white\",\"automargin\":true,\"zerolinewidth\":2},\"yaxis\":{\"gridcolor\":\"white\",\"linecolor\":\"white\",\"ticks\":\"\",\"title\":{\"standoff\":15},\"zerolinecolor\":\"white\",\"automargin\":true,\"zerolinewidth\":2},\"scene\":{\"xaxis\":{\"backgroundcolor\":\"#E5ECF6\",\"gridcolor\":\"white\",\"linecolor\":\"white\",\"showbackground\":true,\"ticks\":\"\",\"zerolinecolor\":\"white\",\"gridwidth\":2},\"yaxis\":{\"backgroundcolor\":\"#E5ECF6\",\"gridcolor\":\"white\",\"linecolor\":\"white\",\"showbackground\":true,\"ticks\":\"\",\"zerolinecolor\":\"white\",\"gridwidth\":2},\"zaxis\":{\"backgroundcolor\":\"#E5ECF6\",\"gridcolor\":\"white\",\"linecolor\":\"white\",\"showbackground\":true,\"ticks\":\"\",\"zerolinecolor\":\"white\",\"gridwidth\":2}},\"shapedefaults\":{\"line\":{\"color\":\"#2a3f5f\"}},\"annotationdefaults\":{\"arrowcolor\":\"#2a3f5f\",\"arrowhead\":0,\"arrowwidth\":1},\"geo\":{\"bgcolor\":\"white\",\"landcolor\":\"#E5ECF6\",\"subunitcolor\":\"white\",\"showland\":true,\"showlakes\":true,\"lakecolor\":\"white\"},\"title\":{\"x\":0.05},\"mapbox\":{\"style\":\"light\"}}},\"xaxis\":{\"anchor\":\"y\",\"domain\":[0.0,1.0],\"title\":{\"text\":\"Age\"}},\"yaxis\":{\"anchor\":\"x\",\"domain\":[0.0,1.0],\"title\":{\"text\":\"count\"}},\"legend\":{\"tracegroupgap\":0},\"margin\":{\"t\":60},\"barmode\":\"relative\"},                        {\"responsive\": true}                    ).then(function(){\n",
       "                            \n",
       "var gd = document.getElementById('28bdb0fc-d85e-46f6-9f60-cb55042c8497');\n",
       "var x = new MutationObserver(function (mutations, observer) {{\n",
       "        var display = window.getComputedStyle(gd).display;\n",
       "        if (!display || display === 'none') {{\n",
       "            console.log([gd, 'removed!']);\n",
       "            Plotly.purge(gd);\n",
       "            observer.disconnect();\n",
       "        }}\n",
       "}});\n",
       "\n",
       "// Listen for the removal of the full notebook cells\n",
       "var notebookContainer = gd.closest('#notebook-container');\n",
       "if (notebookContainer) {{\n",
       "    x.observe(notebookContainer, {childList: true});\n",
       "}}\n",
       "\n",
       "// Listen for the clearing of the current output cell\n",
       "var outputEl = gd.closest('.output');\n",
       "if (outputEl) {{\n",
       "    x.observe(outputEl, {childList: true});\n",
       "}}\n",
       "\n",
       "                        })                };                });            </script>        </div>"
      ]
     },
     "metadata": {},
     "output_type": "display_data"
    }
   ],
   "source": [
    "import numpy as np\n",
    "import pandas as pd\n",
    "import plotly.express as px\n",
    "import plotly.offline as pyo\n",
    "pyo.init_notebook_mode(connected=True)\n",
    "\n",
    "np.random.seed(0)\n",
    "\n",
    "fav_color_dist = np.random.randint(low=0, high=100, size=6)\n",
    "fav_color_dist = fav_color_dist / fav_color_dist.sum()\n",
    "\n",
    "car_df = pd.DataFrame({'Age': np.hstack([np.random.randint(20, 30, 100), np.random.randint(30, 50, 600), np.random.randint(50, 70, 300)]),\n",
    "                       'Gender': np.random.choice(['Male', 'Female'], 1000),\n",
    "                       'Favorite_Color': np.random.choice(['White', 'Black', 'Silver', 'Red', 'Blue', 'Other'],\n",
    "                       size=1000, p=fav_color_dist)\n",
    "                       })\n",
    "fig = px.histogram(car_df, x='Age')\n",
    "fig"
   ]
  },
  {
   "cell_type": "code",
   "execution_count": null,
   "metadata": {
    "tags": [
     "hide-input"
    ]
   },
   "outputs": [],
   "source": []
  }
 ],
 "metadata": {
  "interpreter": {
   "hash": "916dbcbb3f70747c44a77c7bcd40155683ae19c65e1c03b4aa3499c5328201f1"
  },
  "kernelspec": {
   "display_name": "Python 3.8.5 64-bit",
   "language": "python",
   "name": "python3"
  },
  "language_info": {
   "codemirror_mode": {
    "name": "ipython",
    "version": 3
   },
   "file_extension": ".py",
   "mimetype": "text/x-python",
   "name": "python",
   "nbconvert_exporter": "python",
   "pygments_lexer": "ipython3",
   "version": "3.8.5"
  }
 },
 "nbformat": 4,
 "nbformat_minor": 2
}

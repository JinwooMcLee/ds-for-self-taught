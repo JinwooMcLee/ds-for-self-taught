{
 "cells": [
  {
   "cell_type": "markdown",
   "metadata": {},
   "source": [
    "# Roads to analysis"
   ]
  },
  {
   "cell_type": "markdown",
   "metadata": {},
   "source": [
    "| <img src=\"./data/img/what-to-learn/gaugan_two_roads.png\" alt=\"Two Roads\" width=\"400px\"/> |\n",
    "|:--:|\n",
    "| *Roads to learn analysis (made with [GauGAN](http://gaugan.org/gaugan2/))* |"
   ]
  },
  {
   "cell_type": "markdown",
   "metadata": {},
   "source": [
    "To learn analysis, descriptive analysis is the starting point. After you get comfortable with knowledges for descriptive analysis, you can proceed to learn predictive or prescriptive analysis.\n",
    "\n",
    "I'm not trying to say that predictive or prescriptive analysis are superior to descriptive analysis. Instead, knowledge for descriptive analysis is fundamental for all analyses. Besides, more knowledge doesn't necessarily mean more business or research value.\n",
    "\n",
    "```{note}\n",
    "In the figure above, roads of predictive and prescriptive analysis converge at the end. Recently, prescriptive analysis leverage powerful predictive methods to find complicate relationships within data. I'll tell you about it more in a later chapter.\n",
    "```"
   ]
  },
  {
   "cell_type": "markdown",
   "metadata": {
    "tags": [
     "hide-input"
    ]
   },
   "source": [
    "# Math\n",
    "\n",
    "Brilliant\n",
    "vector\n",
    "\n",
    "3B1B"
   ]
  },
  {
   "cell_type": "markdown",
   "metadata": {},
   "source": [
    "# Code\n",
    "For data analyst or scientist, code is the language to express our knowledge of statistics or machine learning in the way a computer can understand. In this regard, code is just a tool to communicate with a computer.\n",
    "\n",
    "But at the same time, we write a code to communicate our colleagues or ourselves who gonna read the code in the future."
   ]
  },
  {
   "cell_type": "markdown",
   "metadata": {
    "tags": [
     "hide-input"
    ]
   },
   "source": [
    "# Stat\n",
    "Introduction\n",
    "Linear Regression\n",
    "Time series\n",
    "Bayesian"
   ]
  },
  {
   "cell_type": "markdown",
   "metadata": {},
   "source": [
    "# At the junction of pred and presc\n",
    "Lin Alg"
   ]
  },
  {
   "cell_type": "markdown",
   "metadata": {
    "tags": [
     "hide-input"
    ]
   },
   "source": [
    "# Predictive analysis\n",
    "Classification, Regression, Clustering, Outlier analysis\n",
    "NLP CV GNN Recsys"
   ]
  },
  {
   "cell_type": "markdown",
   "metadata": {
    "tags": [
     "hide-input"
    ]
   },
   "source": []
  }
 ],
 "metadata": {
  "interpreter": {
   "hash": "916dbcbb3f70747c44a77c7bcd40155683ae19c65e1c03b4aa3499c5328201f1"
  },
  "kernelspec": {
   "display_name": "Python 3.8.5 64-bit",
   "language": "python",
   "name": "python3"
  },
  "language_info": {
   "name": "python",
   "version": "3.8.5"
  }
 },
 "nbformat": 4,
 "nbformat_minor": 2
}

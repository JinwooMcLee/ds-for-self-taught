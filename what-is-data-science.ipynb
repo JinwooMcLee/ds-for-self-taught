{
 "cells": [
  {
   "cell_type": "markdown",
   "metadata": {},
   "source": [
    "# What is Data Science\n",
    "As I said at the introduction, data science is such a wide area that it's hard to define it with a few sentences. Instead, I'll tell you what analyses is done by data analyst or scientist on their day-to-day work."
   ]
  },
  {
   "cell_type": "markdown",
   "metadata": {},
   "source": [
    "# Too many works are called analysis\n",
    "Calculate average age of your family, then you just did data analysis!\n",
    "\n",
    "And what I did last year to predict bot probability of a game player with state-of-the-art GNN(*Graph Neural Network, I'll tell you about it later, so don't be worry if you don't know about it*), it's also called data analysis!\n",
    "\n",
    "As you see, too many works are all called the same 'analysis'. Instead, we can categorize analysis into 3 types.\n",
    "* Descriptive analysis\n",
    "* Predictive analysis\n",
    "* Prescriptive analysis"
   ]
  },
  {
   "cell_type": "markdown",
   "metadata": {},
   "source": [
    "# Descriptive analysis\n",
    "\n",
    "This is the analysis that data analyst(DA) or business intelligence(BI) do. As the name suggests, descriptive analysis \n",
    "describes the charactersitics of data.\n",
    "\n",
    "| ![](./data/img/descriptive-statistic.png) | \n",
    "|:--:| \n",
    "| *Descriptive analysis (Credit: Intellspot)* |"
   ]
  },
  {
   "cell_type": "markdown",
   "metadata": {},
   "source": []
  }
 ],
 "metadata": {
  "interpreter": {
   "hash": "916dbcbb3f70747c44a77c7bcd40155683ae19c65e1c03b4aa3499c5328201f1"
  },
  "kernelspec": {
   "display_name": "Python 3.8.5 64-bit",
   "language": "python",
   "name": "python3"
  },
  "language_info": {
   "codemirror_mode": {
    "name": "ipython",
    "version": 3
   },
   "file_extension": ".py",
   "mimetype": "text/x-python",
   "name": "python",
   "nbconvert_exporter": "python",
   "pygments_lexer": "ipython3",
   "version": "3.8.5"
  },
  "orig_nbformat": 4
 },
 "nbformat": 4,
 "nbformat_minor": 2
}

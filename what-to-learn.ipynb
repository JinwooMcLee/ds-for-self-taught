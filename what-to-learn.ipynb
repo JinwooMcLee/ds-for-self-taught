{
 "cells": [
  {
   "cell_type": "markdown",
   "metadata": {
    "tags": [
     "hide-input"
    ]
   },
   "source": [
    "# Math\n",
    "\n",
    "Brilliant\n",
    "vector\n",
    "\n",
    "3B1B\n",
    "\n"
   ]
  },
  {
   "cell_type": "markdown",
   "metadata": {
    "tags": [
     "hide-input"
    ]
   },
   "source": [
    "# Stat\n",
    "Introduction\n",
    "Linear Regression\n",
    "Time series\n",
    "Bayesian"
   ]
  },
  {
   "cell_type": "markdown",
   "metadata": {
    "tags": [
     "hide-input"
    ]
   },
   "source": [
    "# Predictive analysis\n",
    "Classification, Regression, Clustering, Outlier analysis\n",
    "NLP CV GNN Recsys"
   ]
  },
  {
   "cell_type": "markdown",
   "metadata": {
    "tags": [
     "hide-input"
    ]
   },
   "source": []
  }
 ],
 "metadata": {
  "language_info": {
   "name": "python"
  }
 },
 "nbformat": 4,
 "nbformat_minor": 2
}
